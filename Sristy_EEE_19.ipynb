{
 "cells": [
  {
   "cell_type": "markdown",
   "id": "needed-trainer",
   "metadata": {},
   "source": [
    "<h1>Assignment 2</h1>"
   ]
  },
  {
   "cell_type": "markdown",
   "id": "alpine-crash",
   "metadata": {},
   "source": [
    "<h3>What is Data Type?</h3>"
   ]
  },
  {
   "cell_type": "markdown",
   "id": "respiratory-hughes",
   "metadata": {},
   "source": [
    "<p><b>Data types in Python</b></p>\n",
    "<p>Every value in Python has a datatype. Since everything is an object in Python programming, data types are actually classes and variables are instance (object) of these classes. There are various data types in Python.</p>"
   ]
  },
  {
   "cell_type": "markdown",
   "id": "thermal-saver",
   "metadata": {},
   "source": [
    "<h3>Describe all Data Types with Example</h3>\n"
   ]
  },
  {
   "cell_type": "markdown",
   "id": "independent-exhaust",
   "metadata": {},
   "source": [
    "<p>Python has basic four types data</p>"
   ]
  },
  {
   "cell_type": "code",
   "execution_count": null,
   "id": "limiting-letters",
   "metadata": {},
   "outputs": [],
   "source": [
    "#Boolean Type data\n",
    "a = 5\n",
    "b = 6\n",
    "a > b = False\n",
    "a < b = True\n",
    "# True and False are boolean type data\n"
   ]
  },
  {
   "cell_type": "code",
   "execution_count": 32,
   "id": "adolescent-battle",
   "metadata": {},
   "outputs": [
    {
     "name": "stdout",
     "output_type": "stream",
     "text": [
      "5\n"
     ]
    }
   ],
   "source": [
    "#integer type data\n",
    "a = 5\n",
    "print(a)"
   ]
  },
  {
   "cell_type": "code",
   "execution_count": null,
   "id": "electronic-brown",
   "metadata": {},
   "outputs": [],
   "source": [
    "# flaot type data\n",
    "var = 40.66\n",
    "print(b)"
   ]
  },
  {
   "cell_type": "code",
   "execution_count": 33,
   "id": "minute-tractor",
   "metadata": {},
   "outputs": [
    {
     "name": "stdout",
     "output_type": "stream",
     "text": [
      "(3+6j)\n"
     ]
    }
   ],
   "source": [
    "# complex type data\n",
    "#x + yj  => j indicate complex term\n",
    "c = 3 + 6j\n",
    "print(c)"
   ]
  },
  {
   "cell_type": "markdown",
   "id": "chief-choir",
   "metadata": {},
   "source": [
    "<h3>Explain each parameter of print(*objects, sep=' ', end='\\n', file=sys.stdout,\n",
    "flush=False)</h3>"
   ]
  },
  {
   "cell_type": "markdown",
   "id": "auburn-analyst",
   "metadata": {},
   "source": [
    "<p><b>print() Parameters</b></p>\n",
    "</br>\n",
    "    <ul>\n",
    "      <li>objects - object to the printed. * indicates that there may be more than one object</li>\n",
    "           <li>sep - objects are separated by sep. Default value: ' '</li>\n",
    "           <li>end - end is printed at last</li>\n",
    "           <li>file - must be an object with write(string) method. If omitted it, sys.stdout will be used which prints objects on the screen.</li>\n",
    "           <li>flush - If True, the stream is forcibly flushed. Default value: False</li>\n",
    "</ul>"
   ]
  },
  {
   "cell_type": "markdown",
   "id": "adjustable-screening",
   "metadata": {},
   "source": [
    "<h3>What is a python operator? Describe at least three types of operator.</h3>"
   ]
  },
  {
   "cell_type": "markdown",
   "id": "blessed-theory",
   "metadata": {},
   "source": [
    "<p>Operators are special symbols in Python that carry out arithmetic or logical computation. The value that the operator operates on is called the operand.</p>\n",
    "</br>\n",
    "\n",
    "<ul>\n",
    "    <li> + Addition : Adds values on either side of the operator.\n",
    "    Example:a=30 and b = 15 than, a + b = 45\n",
    "</li>\n",
    "    \n",
    "<li>   // :\tFloor Division - The division of operands where  the result is the quotient in which the digits after the decimal point are removed. But if one of the operands is negative, the result is floored, i.e., rounded away from zero (towards negative infinity) −\n",
    "    Example: 9//2 = 4 and -11//3 = -4\n",
    "</li>\n",
    "    \n",
    "<li>- Subtraction : \tSubtracts right hand operand from left hand operand.\n",
    "    Example:a = 10 and b= 6 then, a-b = 4\n",
    "</li>\n",
    "\n",
    "</ul>\n"
   ]
  },
  {
   "cell_type": "markdown",
   "id": "piano-tenant",
   "metadata": {},
   "source": [
    "<h4>Problem 1</h4>"
   ]
  },
  {
   "cell_type": "markdown",
   "id": "alternative-variety",
   "metadata": {},
   "source": [
    "<p><b>Define a list with 7 elements and print the 3rd element of the list.</b></p>"
   ]
  },
  {
   "cell_type": "code",
   "execution_count": 2,
   "id": "worldwide-familiar",
   "metadata": {},
   "outputs": [
    {
     "name": "stdout",
     "output_type": "stream",
     "text": [
      "6.5\n"
     ]
    }
   ],
   "source": [
    "list = [2, \"Sherlock\", 6.5, 'a', 6, 9, 4]\n",
    "print(list[2])"
   ]
  },
  {
   "cell_type": "markdown",
   "id": "combined-desert",
   "metadata": {},
   "source": [
    "<h4>Problem 2</h4>"
   ]
  },
  {
   "cell_type": "markdown",
   "id": "complicated-november",
   "metadata": {},
   "source": [
    "<p><b>Take two input (say a and b) from user and print three lines where:</b></p>\n",
    "</br>\n",
    "<ol>\n",
    "    <li>The first line contains the sum of the two numbers.</li>\n",
    "    <li>The second line contains the difference of the two numbers (first - second).</li>\n",
    "    <li>The third line contains the product of the two numbers.</li>\n",
    "</ol>"
   ]
  },
  {
   "cell_type": "code",
   "execution_count": 4,
   "id": "sought-miller",
   "metadata": {},
   "outputs": [
    {
     "name": "stdout",
     "output_type": "stream",
     "text": [
      "Enter one number: 3\n",
      "Enter another number: 5\n",
      "8\n",
      "-2\n",
      "15\n"
     ]
    }
   ],
   "source": [
    "a = int(input('Enter one number: '))\n",
    "b = int(input('Enter another number: '))\n",
    "sum = a + b #sum of the two numbers\n",
    "diff = a - b #difference of the numbers\n",
    "product = a*b #product of the two numbers\n",
    "print(sum)\n",
    "print(diff)\n",
    "print(product)"
   ]
  },
  {
   "cell_type": "markdown",
   "id": "broad-number",
   "metadata": {},
   "source": [
    "<h4>Problem 3</h4>"
   ]
  },
  {
   "cell_type": "markdown",
   "id": "steady-miller",
   "metadata": {},
   "source": [
    "<p><b>Take two inputs (say a and b) from the user and add logic to print two lines. The first line should\n",
    "contain the result of integer division . The second line should contain the result of float division.</b></p>"
   ]
  },
  {
   "cell_type": "code",
   "execution_count": 6,
   "id": "olive-visiting",
   "metadata": {},
   "outputs": [
    {
     "name": "stdout",
     "output_type": "stream",
     "text": [
      "Enter one number: 3\n",
      "Enter another number: 5\n",
      "0\n",
      "0.6\n"
     ]
    }
   ],
   "source": [
    "x = int(input('Enter one number: '))\n",
    "y = int(input('Enter another number: '))\n",
    "integer = x//y #integer division of the numbers\n",
    "floatDiv = x/y #float division of the numbers\n",
    "print(integer)\n",
    "print(floatDiv)"
   ]
  },
  {
   "cell_type": "markdown",
   "id": "completed-jesus",
   "metadata": {},
   "source": [
    "<h4>Problem 4</h4>"
   ]
  },
  {
   "cell_type": "markdown",
   "id": "elegant-interstate",
   "metadata": {},
   "source": [
    "<p><b>Write a Python program to display the first and last colors from the\n",
    "following list color_list = [\"Red\",\"Green\",\"White\" ,\"Black\"]</b></p>"
   ]
  },
  {
   "cell_type": "code",
   "execution_count": 8,
   "id": "interpreted-surgeon",
   "metadata": {},
   "outputs": [
    {
     "name": "stdout",
     "output_type": "stream",
     "text": [
      "Red Black\n"
     ]
    }
   ],
   "source": [
    "color_list = [\"Red\",\"Green\",\"White\" ,\"Black\"]\n",
    "print(color_list[0], color_list[3])"
   ]
  },
  {
   "cell_type": "markdown",
   "id": "peripheral-passenger",
   "metadata": {},
   "source": [
    "<h4>Problem 5</h4>"
   ]
  },
  {
   "cell_type": "markdown",
   "id": "worthy-conducting",
   "metadata": {},
   "source": [
    "<p><b>Write a Python program to print the following</b></p>\n",
    "</br>\n",
    "<center>Sample string :</center>\n",
    "<centera string that you \"don't\" have to escape></center>\n",
    "<center>This</center>\n",
    "<center>is a ....... multi-line</center>\n",
    "<center>heredoc string --------> example</center>"
   ]
  },
  {
   "cell_type": "code",
   "execution_count": 9,
   "id": "underlying-insight",
   "metadata": {},
   "outputs": [
    {
     "name": "stdout",
     "output_type": "stream",
     "text": [
      "\n",
      "a string that you \"don't\" have to escape\n",
      "\n",
      "This\n",
      "is a ....... multi-line\n",
      "heredoc string --------> example\n",
      "\n"
     ]
    }
   ],
   "source": [
    "print(\"\"\"\n",
    "a string that you \"don't\" have to escape\n",
    "\n",
    "This\n",
    "is a ....... multi-line\n",
    "heredoc string --------> example\n",
    "\"\"\")"
   ]
  },
  {
   "cell_type": "markdown",
   "id": "impaired-quick",
   "metadata": {},
   "source": [
    "<h4>Problem 6</h4>"
   ]
  },
  {
   "cell_type": "markdown",
   "id": "august-cemetery",
   "metadata": {},
   "source": [
    "<p><b>Write a Python program that will accept the base and height of a triangle and\n",
    "compute the area.</b></p>"
   ]
  },
  {
   "cell_type": "code",
   "execution_count": 11,
   "id": "reflected-discretion",
   "metadata": {},
   "outputs": [
    {
     "name": "stdout",
     "output_type": "stream",
     "text": [
      "Enter the base of the triangle: 12\n",
      "Enter the height of the triangle: 8\n",
      "48.0\n"
     ]
    }
   ],
   "source": [
    "base = int(input('Enter the base of the triangle: '))\n",
    "height = int(input('Enter the height of the triangle: '))\n",
    "area = 0.5 * base * height # the formula of the area of a triangle is 0.5 * base * height of that triangle\n",
    "print(area)"
   ]
  },
  {
   "cell_type": "markdown",
   "id": "essential-jefferson",
   "metadata": {},
   "source": [
    "<h4>Problem 7</h4>"
   ]
  },
  {
   "cell_type": "markdown",
   "id": "brazilian-airport",
   "metadata": {},
   "source": [
    "<p><b>Write a Python program to display your details like name, age, address in three\n",
    "different lines.</b></p>"
   ]
  },
  {
   "cell_type": "code",
   "execution_count": 25,
   "id": "limited-facing",
   "metadata": {},
   "outputs": [
    {
     "name": "stdout",
     "output_type": "stream",
     "text": [
      "Harry Potter\n",
      "12\n",
      "Hogwarts\n"
     ]
    }
   ],
   "source": [
    "name ='Harry Potter'\n",
    "age = 12\n",
    "address ='Hogwarts'\n",
    "print(name, age, address, sep='\\n')"
   ]
  },
  {
   "cell_type": "markdown",
   "id": "impaired-citizen",
   "metadata": {},
   "source": [
    "<h4>Problem 8</h4>"
   ]
  },
  {
   "cell_type": "markdown",
   "id": "charming-ethernet",
   "metadata": {},
   "source": [
    "<p><b>Python Program for compound interest.</b></p>"
   ]
  },
  {
   "cell_type": "code",
   "execution_count": 28,
   "id": "fitting-traveler",
   "metadata": {},
   "outputs": [
    {
     "name": "stdout",
     "output_type": "stream",
     "text": [
      "6288.946267774416\n"
     ]
    }
   ],
   "source": [
    "P = 10000 #A is amount\n",
    "T= 5 #T is the time span\n",
    "R = 10.25 #R is the rate\n",
    "#P is principle amount\n",
    "A = P *((1 + R/100)**T)\n",
    "CI = A - P #CI is Compound Interest\n",
    "print(CI)"
   ]
  },
  {
   "cell_type": "markdown",
   "id": "accepted-appendix",
   "metadata": {},
   "source": [
    "<h4>Problem 9</h4>"
   ]
  },
  {
   "cell_type": "markdown",
   "id": "fourth-gospel",
   "metadata": {},
   "source": [
    "<p><b>Print output like this</b></p>\n",
    "</br>\n",
    "   <center>* * * * *</center>\n",
    "</br>\n",
    "   <center>* * * *</center>\n",
    "</br>\n",
    "   <center>* * *</center>\n",
    "</br>\n",
    "    <center>*</center>"
   ]
  },
  {
   "cell_type": "code",
   "execution_count": 30,
   "id": "deadly-prophet",
   "metadata": {},
   "outputs": [
    {
     "name": "stdout",
     "output_type": "stream",
     "text": [
      "\n",
      "  * * * * *\n",
      "\n",
      "   * * * *\n",
      "\n",
      "    * * *\n",
      "\n",
      "     * *\n",
      "\n",
      "      *\n",
      "\n"
     ]
    }
   ],
   "source": [
    "print(\"\"\"\n",
    "  * * * * *\n",
    "\n",
    "   * * * *\n",
    "\n",
    "    * * *\n",
    "\n",
    "     * *\n",
    "\n",
    "      *\n",
    "\"\"\")"
   ]
  },
  {
   "cell_type": "markdown",
   "id": "nuclear-contractor",
   "metadata": {},
   "source": [
    "<h4>Problem 10</h4>"
   ]
  },
  {
   "cell_type": "markdown",
   "id": "aware-convention",
   "metadata": {},
   "source": [
    "<p><b>Python Program to Convert Celsius To Fahrenheit.</b></p>"
   ]
  },
  {
   "cell_type": "code",
   "execution_count": 31,
   "id": "greek-economy",
   "metadata": {},
   "outputs": [
    {
     "name": "stdout",
     "output_type": "stream",
     "text": [
      "Enter temperature in celsius: 37\n",
      "37.00 Celsius is: 98.60 Fahrenheit\n"
     ]
    }
   ],
   "source": [
    "celsius = float(input(\"Enter temperature in celsius: \"))\n",
    "fahrenheit = (celsius * 9/5) + 32\n",
    "print('%.2f Celsius is: %0.2f Fahrenheit' %(celsius, fahrenheit))"
   ]
  },
  {
   "cell_type": "code",
   "execution_count": null,
   "id": "negative-vanilla",
   "metadata": {},
   "outputs": [],
   "source": []
  }
 ],
 "metadata": {
  "kernelspec": {
   "display_name": "Python 3",
   "language": "python",
   "name": "python3"
  },
  "language_info": {
   "codemirror_mode": {
    "name": "ipython",
    "version": 3
   },
   "file_extension": ".py",
   "mimetype": "text/x-python",
   "name": "python",
   "nbconvert_exporter": "python",
   "pygments_lexer": "ipython3",
   "version": "3.9.2"
  }
 },
 "nbformat": 4,
 "nbformat_minor": 5
}
